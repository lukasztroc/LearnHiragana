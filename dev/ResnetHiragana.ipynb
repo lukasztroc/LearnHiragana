{
  "nbformat": 4,
  "nbformat_minor": 0,
  "metadata": {
    "colab": {
      "name": "Untitled58.ipynb",
      "provenance": []
    },
    "kernelspec": {
      "name": "python3",
      "display_name": "Python 3"
    },
    "language_info": {
      "name": "python"
    },
    "accelerator": "GPU",
    "widgets": {
      "application/vnd.jupyter.widget-state+json": {
        "8e5e8a42fbce4ebe9119b8d2cc9a570b": {
          "model_module": "@jupyter-widgets/controls",
          "model_name": "HBoxModel",
          "state": {
            "_view_name": "HBoxView",
            "_dom_classes": [],
            "_model_name": "HBoxModel",
            "_view_module": "@jupyter-widgets/controls",
            "_model_module_version": "1.5.0",
            "_view_count": null,
            "_view_module_version": "1.5.0",
            "box_style": "",
            "layout": "IPY_MODEL_d860922b64994038a1e60c5e45b76df2",
            "_model_module": "@jupyter-widgets/controls",
            "children": [
              "IPY_MODEL_4d571915ae29474daeae8587dd5715d1",
              "IPY_MODEL_058f2892cd7542d295c6fe147733255d"
            ]
          }
        },
        "d860922b64994038a1e60c5e45b76df2": {
          "model_module": "@jupyter-widgets/base",
          "model_name": "LayoutModel",
          "state": {
            "_view_name": "LayoutView",
            "grid_template_rows": null,
            "right": null,
            "justify_content": null,
            "_view_module": "@jupyter-widgets/base",
            "overflow": null,
            "_model_module_version": "1.2.0",
            "_view_count": null,
            "flex_flow": "row wrap",
            "width": "100%",
            "min_width": null,
            "border": null,
            "align_items": null,
            "bottom": null,
            "_model_module": "@jupyter-widgets/base",
            "top": null,
            "grid_column": null,
            "overflow_y": null,
            "overflow_x": null,
            "grid_auto_flow": null,
            "grid_area": null,
            "grid_template_columns": null,
            "flex": null,
            "_model_name": "LayoutModel",
            "justify_items": null,
            "grid_row": null,
            "max_height": null,
            "align_content": null,
            "visibility": null,
            "align_self": null,
            "height": null,
            "min_height": null,
            "padding": null,
            "grid_auto_rows": null,
            "grid_gap": null,
            "max_width": null,
            "order": null,
            "_view_module_version": "1.2.0",
            "grid_template_areas": null,
            "object_position": null,
            "object_fit": null,
            "grid_auto_columns": null,
            "margin": null,
            "display": "inline-flex",
            "left": null
          }
        },
        "4d571915ae29474daeae8587dd5715d1": {
          "model_module": "@jupyter-widgets/controls",
          "model_name": "FloatProgressModel",
          "state": {
            "_view_name": "ProgressView",
            "style": "IPY_MODEL_e96cd38f86b9402cba259bd02e6a31ee",
            "_dom_classes": [],
            "description": "Epoch 19: 100%",
            "_model_name": "FloatProgressModel",
            "bar_style": "success",
            "max": 3631,
            "_view_module": "@jupyter-widgets/controls",
            "_model_module_version": "1.5.0",
            "value": 3631,
            "_view_count": null,
            "_view_module_version": "1.5.0",
            "orientation": "horizontal",
            "min": 0,
            "description_tooltip": null,
            "_model_module": "@jupyter-widgets/controls",
            "layout": "IPY_MODEL_4d1666c4dc2b4ef3bb880f8d01ff7aad"
          }
        },
        "058f2892cd7542d295c6fe147733255d": {
          "model_module": "@jupyter-widgets/controls",
          "model_name": "HTMLModel",
          "state": {
            "_view_name": "HTMLView",
            "style": "IPY_MODEL_711ee6e85ffc4a6e9938073ffc2c42bc",
            "_dom_classes": [],
            "description": "",
            "_model_name": "HTMLModel",
            "placeholder": "​",
            "_view_module": "@jupyter-widgets/controls",
            "_model_module_version": "1.5.0",
            "value": " 3631/3631 [01:53&lt;00:00, 31.94it/s, loss=0.0252, v_num=0]",
            "_view_count": null,
            "_view_module_version": "1.5.0",
            "description_tooltip": null,
            "_model_module": "@jupyter-widgets/controls",
            "layout": "IPY_MODEL_f0297db82c6e4434957db20aa1640e9a"
          }
        },
        "e96cd38f86b9402cba259bd02e6a31ee": {
          "model_module": "@jupyter-widgets/controls",
          "model_name": "ProgressStyleModel",
          "state": {
            "_view_name": "StyleView",
            "_model_name": "ProgressStyleModel",
            "description_width": "initial",
            "_view_module": "@jupyter-widgets/base",
            "_model_module_version": "1.5.0",
            "_view_count": null,
            "_view_module_version": "1.2.0",
            "bar_color": null,
            "_model_module": "@jupyter-widgets/controls"
          }
        },
        "4d1666c4dc2b4ef3bb880f8d01ff7aad": {
          "model_module": "@jupyter-widgets/base",
          "model_name": "LayoutModel",
          "state": {
            "_view_name": "LayoutView",
            "grid_template_rows": null,
            "right": null,
            "justify_content": null,
            "_view_module": "@jupyter-widgets/base",
            "overflow": null,
            "_model_module_version": "1.2.0",
            "_view_count": null,
            "flex_flow": null,
            "width": null,
            "min_width": null,
            "border": null,
            "align_items": null,
            "bottom": null,
            "_model_module": "@jupyter-widgets/base",
            "top": null,
            "grid_column": null,
            "overflow_y": null,
            "overflow_x": null,
            "grid_auto_flow": null,
            "grid_area": null,
            "grid_template_columns": null,
            "flex": "2",
            "_model_name": "LayoutModel",
            "justify_items": null,
            "grid_row": null,
            "max_height": null,
            "align_content": null,
            "visibility": null,
            "align_self": null,
            "height": null,
            "min_height": null,
            "padding": null,
            "grid_auto_rows": null,
            "grid_gap": null,
            "max_width": null,
            "order": null,
            "_view_module_version": "1.2.0",
            "grid_template_areas": null,
            "object_position": null,
            "object_fit": null,
            "grid_auto_columns": null,
            "margin": null,
            "display": null,
            "left": null
          }
        },
        "711ee6e85ffc4a6e9938073ffc2c42bc": {
          "model_module": "@jupyter-widgets/controls",
          "model_name": "DescriptionStyleModel",
          "state": {
            "_view_name": "StyleView",
            "_model_name": "DescriptionStyleModel",
            "description_width": "",
            "_view_module": "@jupyter-widgets/base",
            "_model_module_version": "1.5.0",
            "_view_count": null,
            "_view_module_version": "1.2.0",
            "_model_module": "@jupyter-widgets/controls"
          }
        },
        "f0297db82c6e4434957db20aa1640e9a": {
          "model_module": "@jupyter-widgets/base",
          "model_name": "LayoutModel",
          "state": {
            "_view_name": "LayoutView",
            "grid_template_rows": null,
            "right": null,
            "justify_content": null,
            "_view_module": "@jupyter-widgets/base",
            "overflow": null,
            "_model_module_version": "1.2.0",
            "_view_count": null,
            "flex_flow": null,
            "width": null,
            "min_width": null,
            "border": null,
            "align_items": null,
            "bottom": null,
            "_model_module": "@jupyter-widgets/base",
            "top": null,
            "grid_column": null,
            "overflow_y": null,
            "overflow_x": null,
            "grid_auto_flow": null,
            "grid_area": null,
            "grid_template_columns": null,
            "flex": null,
            "_model_name": "LayoutModel",
            "justify_items": null,
            "grid_row": null,
            "max_height": null,
            "align_content": null,
            "visibility": null,
            "align_self": null,
            "height": null,
            "min_height": null,
            "padding": null,
            "grid_auto_rows": null,
            "grid_gap": null,
            "max_width": null,
            "order": null,
            "_view_module_version": "1.2.0",
            "grid_template_areas": null,
            "object_position": null,
            "object_fit": null,
            "grid_auto_columns": null,
            "margin": null,
            "display": null,
            "left": null
          }
        },
        "36a042ad38d84732bd405cbab2accd75": {
          "model_module": "@jupyter-widgets/controls",
          "model_name": "HBoxModel",
          "state": {
            "_view_name": "HBoxView",
            "_dom_classes": [],
            "_model_name": "HBoxModel",
            "_view_module": "@jupyter-widgets/controls",
            "_model_module_version": "1.5.0",
            "_view_count": null,
            "_view_module_version": "1.5.0",
            "box_style": "",
            "layout": "IPY_MODEL_e04e93cad88e4a08af7bdb50b5d9d12e",
            "_model_module": "@jupyter-widgets/controls",
            "children": [
              "IPY_MODEL_a3ac08c0085b450981ed444d9c28130c",
              "IPY_MODEL_2cc3c6ace1504922ae5e83c12b4d0fd8"
            ]
          }
        },
        "e04e93cad88e4a08af7bdb50b5d9d12e": {
          "model_module": "@jupyter-widgets/base",
          "model_name": "LayoutModel",
          "state": {
            "_view_name": "LayoutView",
            "grid_template_rows": null,
            "right": null,
            "justify_content": null,
            "_view_module": "@jupyter-widgets/base",
            "overflow": null,
            "_model_module_version": "1.2.0",
            "_view_count": null,
            "flex_flow": null,
            "width": null,
            "min_width": null,
            "border": null,
            "align_items": null,
            "bottom": null,
            "_model_module": "@jupyter-widgets/base",
            "top": null,
            "grid_column": null,
            "overflow_y": null,
            "overflow_x": null,
            "grid_auto_flow": null,
            "grid_area": null,
            "grid_template_columns": null,
            "flex": null,
            "_model_name": "LayoutModel",
            "justify_items": null,
            "grid_row": null,
            "max_height": null,
            "align_content": null,
            "visibility": null,
            "align_self": null,
            "height": null,
            "min_height": null,
            "padding": null,
            "grid_auto_rows": null,
            "grid_gap": null,
            "max_width": null,
            "order": null,
            "_view_module_version": "1.2.0",
            "grid_template_areas": null,
            "object_position": null,
            "object_fit": null,
            "grid_auto_columns": null,
            "margin": null,
            "display": null,
            "left": null
          }
        },
        "a3ac08c0085b450981ed444d9c28130c": {
          "model_module": "@jupyter-widgets/controls",
          "model_name": "FloatProgressModel",
          "state": {
            "_view_name": "ProgressView",
            "style": "IPY_MODEL_030b73698e0e40569d372f38bcdf5bff",
            "_dom_classes": [],
            "description": "100%",
            "_model_name": "FloatProgressModel",
            "bar_style": "success",
            "max": 603,
            "_view_module": "@jupyter-widgets/controls",
            "_model_module_version": "1.5.0",
            "value": 603,
            "_view_count": null,
            "_view_module_version": "1.5.0",
            "orientation": "horizontal",
            "min": 0,
            "description_tooltip": null,
            "_model_module": "@jupyter-widgets/controls",
            "layout": "IPY_MODEL_c6e9b81c0c7f4df58b9ce8e27c8edab2"
          }
        },
        "2cc3c6ace1504922ae5e83c12b4d0fd8": {
          "model_module": "@jupyter-widgets/controls",
          "model_name": "HTMLModel",
          "state": {
            "_view_name": "HTMLView",
            "style": "IPY_MODEL_ccecff11c5c14435b262e14da874ca3b",
            "_dom_classes": [],
            "description": "",
            "_model_name": "HTMLModel",
            "placeholder": "​",
            "_view_module": "@jupyter-widgets/controls",
            "_model_module_version": "1.5.0",
            "value": " 603/603 [01:32&lt;00:00,  6.49it/s]",
            "_view_count": null,
            "_view_module_version": "1.5.0",
            "description_tooltip": null,
            "_model_module": "@jupyter-widgets/controls",
            "layout": "IPY_MODEL_1e03ed5a75aa406fb1c94b62f9d77d4f"
          }
        },
        "030b73698e0e40569d372f38bcdf5bff": {
          "model_module": "@jupyter-widgets/controls",
          "model_name": "ProgressStyleModel",
          "state": {
            "_view_name": "StyleView",
            "_model_name": "ProgressStyleModel",
            "description_width": "initial",
            "_view_module": "@jupyter-widgets/base",
            "_model_module_version": "1.5.0",
            "_view_count": null,
            "_view_module_version": "1.2.0",
            "bar_color": null,
            "_model_module": "@jupyter-widgets/controls"
          }
        },
        "c6e9b81c0c7f4df58b9ce8e27c8edab2": {
          "model_module": "@jupyter-widgets/base",
          "model_name": "LayoutModel",
          "state": {
            "_view_name": "LayoutView",
            "grid_template_rows": null,
            "right": null,
            "justify_content": null,
            "_view_module": "@jupyter-widgets/base",
            "overflow": null,
            "_model_module_version": "1.2.0",
            "_view_count": null,
            "flex_flow": null,
            "width": null,
            "min_width": null,
            "border": null,
            "align_items": null,
            "bottom": null,
            "_model_module": "@jupyter-widgets/base",
            "top": null,
            "grid_column": null,
            "overflow_y": null,
            "overflow_x": null,
            "grid_auto_flow": null,
            "grid_area": null,
            "grid_template_columns": null,
            "flex": null,
            "_model_name": "LayoutModel",
            "justify_items": null,
            "grid_row": null,
            "max_height": null,
            "align_content": null,
            "visibility": null,
            "align_self": null,
            "height": null,
            "min_height": null,
            "padding": null,
            "grid_auto_rows": null,
            "grid_gap": null,
            "max_width": null,
            "order": null,
            "_view_module_version": "1.2.0",
            "grid_template_areas": null,
            "object_position": null,
            "object_fit": null,
            "grid_auto_columns": null,
            "margin": null,
            "display": null,
            "left": null
          }
        },
        "ccecff11c5c14435b262e14da874ca3b": {
          "model_module": "@jupyter-widgets/controls",
          "model_name": "DescriptionStyleModel",
          "state": {
            "_view_name": "StyleView",
            "_model_name": "DescriptionStyleModel",
            "description_width": "",
            "_view_module": "@jupyter-widgets/base",
            "_model_module_version": "1.5.0",
            "_view_count": null,
            "_view_module_version": "1.2.0",
            "_model_module": "@jupyter-widgets/controls"
          }
        },
        "1e03ed5a75aa406fb1c94b62f9d77d4f": {
          "model_module": "@jupyter-widgets/base",
          "model_name": "LayoutModel",
          "state": {
            "_view_name": "LayoutView",
            "grid_template_rows": null,
            "right": null,
            "justify_content": null,
            "_view_module": "@jupyter-widgets/base",
            "overflow": null,
            "_model_module_version": "1.2.0",
            "_view_count": null,
            "flex_flow": null,
            "width": null,
            "min_width": null,
            "border": null,
            "align_items": null,
            "bottom": null,
            "_model_module": "@jupyter-widgets/base",
            "top": null,
            "grid_column": null,
            "overflow_y": null,
            "overflow_x": null,
            "grid_auto_flow": null,
            "grid_area": null,
            "grid_template_columns": null,
            "flex": null,
            "_model_name": "LayoutModel",
            "justify_items": null,
            "grid_row": null,
            "max_height": null,
            "align_content": null,
            "visibility": null,
            "align_self": null,
            "height": null,
            "min_height": null,
            "padding": null,
            "grid_auto_rows": null,
            "grid_gap": null,
            "max_width": null,
            "order": null,
            "_view_module_version": "1.2.0",
            "grid_template_areas": null,
            "object_position": null,
            "object_fit": null,
            "grid_auto_columns": null,
            "margin": null,
            "display": null,
            "left": null
          }
        }
      }
    }
  },
  "cells": [
    {
      "cell_type": "code",
      "metadata": {
        "id": "dVtUAP9p1jP3"
      },
      "source": [
        "from torchvision.models import resnet18,resnet34\n",
        "from torch import nn\n",
        "from torch.utils.data import DataLoader\n",
        "import torch\n",
        "import torchvision\n",
        "import torch.nn as nn \n",
        "import torch.optim as optim\n",
        "import torch.nn.functional as F \n",
        "import numpy as np\n",
        "from torch.utils.data import  Dataset,DataLoader\n",
        "from PIL import Image\n",
        "import pytorch_lightning as pl\n",
        "from pytorch_lightning.core.decorators import auto_move_data"
      ],
      "execution_count": null,
      "outputs": []
    },
    {
      "cell_type": "code",
      "metadata": {
        "id": "DWoUrsGe3gh_"
      },
      "source": [
        "!pip install pytorch_lightning"
      ],
      "execution_count": null,
      "outputs": []
    },
    {
      "cell_type": "code",
      "metadata": {
        "id": "Pos1I1BU2lW5"
      },
      "source": [
        "class KMNIST(Dataset):\n",
        "  \n",
        "  def __init__(self, train = True, root = ''):\n",
        "    self.root = root\n",
        "    \n",
        "    self.X_train = torch.from_numpy(np.load(root+\"/k49-train-imgs.npz\")['arr_0']).reshape(-1,1,28,28)\n",
        "    self.X_train = self.X_train / 255\n",
        "    self.y_train = torch.from_numpy(np.load(root+\"/k49-train-labels.npz\")['arr_0'])\n",
        "    self.y_train = self.y_train.type(torch.LongTensor)\n",
        "    \n",
        "    \n",
        "    self.X_test = torch.from_numpy(np.load(root+\"/k49-test-imgs.npz\")['arr_0']).reshape(-1,1,28,28)\n",
        "    self.X_test = self.X_test / 255\n",
        "    self.y_test = torch.from_numpy(np.load(root+\"/k49-test-labels.npz\")['arr_0'])\n",
        "    self.y_test = self.y_test.type(torch.LongTensor)\n",
        "    \n",
        "    self.train = train\n",
        "  \n",
        "  def __len__(self):\n",
        "    return self.X_train.shape[0] if self.train else self.X_test.shape[0]\n",
        "  \n",
        "  def __getitem__(self,index):\n",
        "    if self.train: \n",
        "      return self.X_train[index],self.y_train[index]\n",
        "    \n",
        "    else: \n",
        "      return self.X_test[index],self.y_test[index]\n",
        "data_train1 = KMNIST(root='/content/drive/MyDrive/hiragana')\n",
        "data_test2 = KMNIST(root='/content/drive/MyDrive/hiragana',train = False)"
      ],
      "execution_count": null,
      "outputs": []
    },
    {
      "cell_type": "code",
      "metadata": {
        "id": "7eHa7_ls2x0b"
      },
      "source": [
        "train_loader = DataLoader(data_train1, batch_size=64,\n",
        "                                          shuffle=True)\n",
        "\n",
        "test_loader = DataLoader(data_test2, batch_size=64,\n",
        "                                         shuffle=False)"
      ],
      "execution_count": null,
      "outputs": []
    },
    {
      "cell_type": "code",
      "metadata": {
        "id": "QN1VUrDe3HCh"
      },
      "source": [
        "class ResNetKMNIST(pl.LightningModule):\n",
        "  def __init__(self):\n",
        "    super().__init__()\n",
        "    self.model = resnet18(num_classes=49)\n",
        "    self.model.conv1 = nn.Conv2d(1, 64, kernel_size=(7, 7), stride=(2, 2), padding=(3, 3), bias=False)\n",
        "    self.loss = nn.CrossEntropyLoss()\n",
        "\n",
        "  @auto_move_data\n",
        "  def forward(self, x):\n",
        "    return self.model(x)\n",
        "  \n",
        "  def training_step(self, batch, batch_no):\n",
        "    x, y = batch\n",
        "    logits = self(x)\n",
        "    loss = self.loss(logits, y)\n",
        "    return loss\n",
        "  \n",
        "  def configure_optimizers(self):\n",
        "    return torch.optim.Adam(self.parameters())"
      ],
      "execution_count": null,
      "outputs": []
    },
    {
      "cell_type": "code",
      "metadata": {
        "id": "A1bpWeAi3YqI"
      },
      "source": [
        "model = ResNetKMNIST()"
      ],
      "execution_count": null,
      "outputs": []
    },
    {
      "cell_type": "code",
      "metadata": {
        "id": "_gk3RDWm74v6"
      },
      "source": [
        "model"
      ],
      "execution_count": null,
      "outputs": []
    },
    {
      "cell_type": "code",
      "metadata": {
        "colab": {
          "base_uri": "https://localhost:8080/"
        },
        "id": "uTe-xMKo3-kI",
        "outputId": "ea7e5e40-028f-4a09-bd7c-cd54929d3cbb"
      },
      "source": [
        "trainer = pl.Trainer(\n",
        "    gpus=1,\n",
        "    max_epochs=20,\n",
        "    progress_bar_refresh_rate=20\n",
        ")"
      ],
      "execution_count": null,
      "outputs": [
        {
          "output_type": "stream",
          "text": [
            "GPU available: True, used: True\n",
            "TPU available: False, using: 0 TPU cores\n"
          ],
          "name": "stderr"
        }
      ]
    },
    {
      "cell_type": "code",
      "metadata": {
        "colab": {
          "base_uri": "https://localhost:8080/",
          "height": 270,
          "referenced_widgets": [
            "8e5e8a42fbce4ebe9119b8d2cc9a570b",
            "d860922b64994038a1e60c5e45b76df2",
            "4d571915ae29474daeae8587dd5715d1",
            "058f2892cd7542d295c6fe147733255d",
            "e96cd38f86b9402cba259bd02e6a31ee",
            "4d1666c4dc2b4ef3bb880f8d01ff7aad",
            "711ee6e85ffc4a6e9938073ffc2c42bc",
            "f0297db82c6e4434957db20aa1640e9a"
          ]
        },
        "id": "dan9Wy4Z4EcO",
        "outputId": "08955d20-5fb6-41e1-dd4c-7ec7cc53a956"
      },
      "source": [
        "trainer.fit(model, train_loader)"
      ],
      "execution_count": null,
      "outputs": [
        {
          "output_type": "stream",
          "text": [
            "LOCAL_RANK: 0 - CUDA_VISIBLE_DEVICES: [0]\n",
            "\n",
            "  | Name  | Type             | Params\n",
            "-------------------------------------------\n",
            "0 | model | ResNet           | 11.2 M\n",
            "1 | loss  | CrossEntropyLoss | 0     \n",
            "-------------------------------------------\n",
            "11.2 M    Trainable params\n",
            "0         Non-trainable params\n",
            "11.2 M    Total params\n",
            "44.782    Total estimated model params size (MB)\n"
          ],
          "name": "stderr"
        },
        {
          "output_type": "display_data",
          "data": {
            "application/vnd.jupyter.widget-view+json": {
              "model_id": "8e5e8a42fbce4ebe9119b8d2cc9a570b",
              "version_minor": 0,
              "version_major": 2
            },
            "text/plain": [
              "HBox(children=(FloatProgress(value=1.0, bar_style='info', description='Training', layout=Layout(flex='2'), max…"
            ]
          },
          "metadata": {
            "tags": []
          }
        },
        {
          "output_type": "stream",
          "text": [
            "\n"
          ],
          "name": "stdout"
        },
        {
          "output_type": "execute_result",
          "data": {
            "text/plain": [
              "1"
            ]
          },
          "metadata": {
            "tags": []
          },
          "execution_count": 12
        }
      ]
    },
    {
      "cell_type": "code",
      "metadata": {
        "id": "07sKgmmC4gzd"
      },
      "source": [
        "torch.save(model.state_dict(), 'resnet18_v3.pt')"
      ],
      "execution_count": null,
      "outputs": []
    },
    {
      "cell_type": "code",
      "metadata": {
        "id": "SAi_0xO64rru"
      },
      "source": [
        "def get_prediction(x, model: pl.LightningModule):\n",
        "  model.freeze() # prepares model for predicting\n",
        "  probabilities = torch.softmax(model(x), dim=1)\n",
        "  predicted_class = torch.argmax(probabilities, dim=1)\n",
        "  return predicted_class, probabilities"
      ],
      "execution_count": null,
      "outputs": []
    },
    {
      "cell_type": "code",
      "metadata": {
        "id": "P1Pa479G4sYt"
      },
      "source": [
        "from tqdm.autonotebook import tqdm"
      ],
      "execution_count": null,
      "outputs": []
    },
    {
      "cell_type": "code",
      "metadata": {
        "colab": {
          "base_uri": "https://localhost:8080/"
        },
        "id": "1-tZstlh4wsy",
        "outputId": "f8ea31b1-160a-4272-d486-bb9c5a6ae9d6"
      },
      "source": [
        "m_state_dict = torch.load('resnet18_v3.pt')\n",
        "inference_model = ResNetKMNIST()\n",
        "inference_model.load_state_dict(m_state_dict)"
      ],
      "execution_count": null,
      "outputs": [
        {
          "output_type": "execute_result",
          "data": {
            "text/plain": [
              "<All keys matched successfully>"
            ]
          },
          "metadata": {
            "tags": []
          },
          "execution_count": 17
        }
      ]
    },
    {
      "cell_type": "code",
      "metadata": {
        "colab": {
          "base_uri": "https://localhost:8080/",
          "height": 66,
          "referenced_widgets": [
            "36a042ad38d84732bd405cbab2accd75",
            "e04e93cad88e4a08af7bdb50b5d9d12e",
            "a3ac08c0085b450981ed444d9c28130c",
            "2cc3c6ace1504922ae5e83c12b4d0fd8",
            "030b73698e0e40569d372f38bcdf5bff",
            "c6e9b81c0c7f4df58b9ce8e27c8edab2",
            "ccecff11c5c14435b262e14da874ca3b",
            "1e03ed5a75aa406fb1c94b62f9d77d4f"
          ]
        },
        "id": "E-pIzpxp4znC",
        "outputId": "272cdc5a-f060-4123-809a-5ca059228280"
      },
      "source": [
        "true_y, pred_y = [], []\n",
        "for batch in tqdm(iter(test_loader), total=len(test_loader)):\n",
        "  inference_model.eval()\n",
        "  x, y = batch\n",
        "  true_y.extend(y)\n",
        "  preds, probs = get_prediction(x, inference_model)\n",
        "  pred_y.extend(preds.cpu())"
      ],
      "execution_count": null,
      "outputs": [
        {
          "output_type": "display_data",
          "data": {
            "application/vnd.jupyter.widget-view+json": {
              "model_id": "36a042ad38d84732bd405cbab2accd75",
              "version_minor": 0,
              "version_major": 2
            },
            "text/plain": [
              "HBox(children=(FloatProgress(value=0.0, max=603.0), HTML(value='')))"
            ]
          },
          "metadata": {
            "tags": []
          }
        },
        {
          "output_type": "stream",
          "text": [
            "\n"
          ],
          "name": "stdout"
        }
      ]
    },
    {
      "cell_type": "code",
      "metadata": {
        "id": "BGs2rDEC5CkC"
      },
      "source": [
        "from sklearn.metrics import classification_report"
      ],
      "execution_count": null,
      "outputs": []
    },
    {
      "cell_type": "code",
      "metadata": {
        "colab": {
          "base_uri": "https://localhost:8080/"
        },
        "id": "wpIiActB5DMw",
        "outputId": "ccfad010-8dd0-4d36-e0d1-62e909612196"
      },
      "source": [
        "print(classification_report(true_y, pred_y, digits=3))"
      ],
      "execution_count": null,
      "outputs": [
        {
          "output_type": "stream",
          "text": [
            "              precision    recall  f1-score   support\n",
            "\n",
            "           0      0.960     0.972     0.966      1000\n",
            "           1      0.981     0.982     0.982      1000\n",
            "           2      0.959     0.964     0.962      1000\n",
            "           3      0.870     0.952     0.909       126\n",
            "           4      0.960     0.967     0.964      1000\n",
            "           5      0.921     0.939     0.930      1000\n",
            "           6      0.959     0.942     0.951      1000\n",
            "           7      0.920     0.938     0.929      1000\n",
            "           8      0.903     0.977     0.939       767\n",
            "           9      0.944     0.966     0.955      1000\n",
            "          10      0.960     0.973     0.966      1000\n",
            "          11      0.982     0.944     0.963      1000\n",
            "          12      0.955     0.926     0.940      1000\n",
            "          13      0.967     0.937     0.951       678\n",
            "          14      0.952     0.940     0.946       629\n",
            "          15      0.957     0.974     0.965      1000\n",
            "          16      0.967     0.974     0.970       418\n",
            "          17      0.960     0.966     0.963      1000\n",
            "          18      0.964     0.951     0.957      1000\n",
            "          19      0.974     0.969     0.971      1000\n",
            "          20      0.958     0.928     0.943      1000\n",
            "          21      0.928     0.965     0.946      1000\n",
            "          22      0.944     0.946     0.945       336\n",
            "          23      0.957     0.955     0.956       399\n",
            "          24      0.958     0.977     0.967      1000\n",
            "          25      0.984     0.924     0.953      1000\n",
            "          26      0.980     0.975     0.977       836\n",
            "          27      0.974     0.940     0.957      1000\n",
            "          28      0.984     0.952     0.968      1000\n",
            "          29      0.956     0.938     0.947       324\n",
            "          30      0.937     0.977     0.956      1000\n",
            "          31      0.971     0.946     0.958       498\n",
            "          32      0.984     0.893     0.936       280\n",
            "          33      0.931     0.971     0.950       552\n",
            "          34      0.973     0.963     0.968      1000\n",
            "          35      0.970     0.969     0.969      1000\n",
            "          36      0.950     0.942     0.946       260\n",
            "          37      0.962     0.989     0.975      1000\n",
            "          38      0.953     0.935     0.944      1000\n",
            "          39      0.960     0.951     0.955      1000\n",
            "          40      0.952     0.944     0.948      1000\n",
            "          41      0.961     0.972     0.967      1000\n",
            "          42      0.970     0.937     0.953       348\n",
            "          43      0.960     0.928     0.944       390\n",
            "          44      0.938     0.897     0.917        68\n",
            "          45      0.918     0.875     0.896        64\n",
            "          46      0.958     0.982     0.970      1000\n",
            "          47      0.983     0.991     0.987      1000\n",
            "          48      0.884     0.916     0.900       574\n",
            "\n",
            "    accuracy                          0.957     38547\n",
            "   macro avg      0.954     0.952     0.953     38547\n",
            "weighted avg      0.957     0.957     0.957     38547\n",
            "\n"
          ],
          "name": "stdout"
        }
      ]
    },
    {
      "cell_type": "code",
      "metadata": {
        "id": "kFqoQRSZ_J53"
      },
      "source": [
        "model.state_dict"
      ],
      "execution_count": null,
      "outputs": []
    },
    {
      "cell_type": "code",
      "metadata": {
        "id": "XGGcqsWQ_TTg"
      },
      "source": [
        "torch.save(model.state_dict(), 'mymodule.pt')"
      ],
      "execution_count": null,
      "outputs": []
    }
  ]
}