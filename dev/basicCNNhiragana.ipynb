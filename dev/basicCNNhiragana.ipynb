version https://git-lfs.github.com/spec/v1
oid sha256:638fb88b6975c1a843e6279b41de98daa8ba57fa403a643da7e6e2ebde88aca4
size 9423
